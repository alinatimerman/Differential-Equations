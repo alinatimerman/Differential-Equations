{
 "cells": [
  {
   "cell_type": "code",
   "execution_count": 0,
   "metadata": {
    "collapsed": false
   },
   "outputs": [
   ],
   "source": [
    "Timerman Alina, group 823"
   ]
  },
  {
   "cell_type": "code",
   "execution_count": 2,
   "metadata": {
    "collapsed": false
   },
   "outputs": [
    {
     "data": {
      "text/plain": [
       "1/6*(x^6 + 6*_C)/x^2"
      ]
     },
     "execution_count": 2,
     "metadata": {
     },
     "output_type": "execute_result"
    }
   ],
   "source": [
    "#Exercise 1 a\n",
    "x=var('x')\n",
    "y=function('y')(x)\n",
    "eqd=diff(y,x)+2*y/x==x^3\n",
    "sol=desolve(eqd,y)\n",
    "_C=var('_C')\n",
    "sol"
   ]
  },
  {
   "cell_type": "code",
   "execution_count": 3,
   "metadata": {
    "collapsed": false
   },
   "outputs": [
    {
     "data": {
      "text/plain": [
       "1/6*x^4"
      ]
     },
     "execution_count": 3,
     "metadata": {
     },
     "output_type": "execute_result"
    }
   ],
   "source": [
    "#Exercise 1 b\n",
    "x=var('x')\n",
    "y=function('y')(x)\n",
    "eqd=diff(y,x)+2*y/x==x^3\n",
    "sol = desolve(eqd,y,ics=[1,1/6])\n",
    "sol\n"
   ]
  },
  {
   "cell_type": "code",
   "execution_count": 4,
   "metadata": {
    "collapsed": false
   },
   "outputs": [
    {
     "data": {
      "image/png": "[encoded data removed]",
      "text/plain": [
       "Graphics object consisting of 1 graphics primitive"
      ]
     },
     "execution_count": 4,
     "metadata": {
     },
     "output_type": "execute_result"
    }
   ],
   "source": [
    "#Exercise 1 c\n",
    "plot(sol,x,-2,2)\n"
   ]
  },
  {
   "cell_type": "code",
   "execution_count": 9,
   "metadata": {
    "collapsed": false
   },
   "outputs": [
    {
     "data": {
      "text/plain": [
       "(t, k, T0) |--> T0*e^(-k*t)"
      ]
     },
     "execution_count": 9,
     "metadata": {
     },
     "output_type": "execute_result"
    }
   ],
   "source": [
    "#Exercise 2\n",
    "reset()\n",
    "t = var('t')\n",
    "k = var('k')\n",
    "T0 = var('T0')\n",
    "T = function('T')(t)\n",
    "eq = diff(T,t) == -k * (T)\n",
    "sol(t, k, T0) = desolve(eq, [T, t], ics=[0, T0])\n",
    "sol\n"
   ]
  },
  {
   "cell_type": "code",
   "execution_count": 10,
   "metadata": {
    "collapsed": false
   },
   "outputs": [
    {
     "data": {
      "text/plain": [
       "[k == log(2)/T01]"
      ]
     },
     "execution_count": 10,
     "metadata": {
     },
     "output_type": "execute_result"
    }
   ],
   "source": [
    "T01 = var('T01')\n",
    "eq = sol(T01, k, T0) == T0/2\n",
    "eqk = solve(eq, k)\n",
    "eqk"
   ]
  },
  {
   "cell_type": "code",
   "execution_count": 11,
   "metadata": {
    "collapsed": false
   },
   "outputs": [
    {
     "data": {
      "text/plain": [
       "[k == -1/40*log(2)]"
      ]
     },
     "execution_count": 11,
     "metadata": {
     },
     "output_type": "execute_result"
    }
   ],
   "source": [
    "assume(k, 'real')\n",
    "eq2 = sol(40, k, 5) == 10\n",
    "solve(eq2, k)"
   ]
  },
  {
   "cell_type": "code",
   "execution_count": 12,
   "metadata": {
    "collapsed": false
   },
   "outputs": [
   ],
   "source": [
    "#Exercise 3\n",
    "reset()\n",
    "x=var('x')\n",
    "y=function('y')(x)\n",
    "deq=x^2*diff(y,x,2)+2*x*diff(y,x)-2*y==0\n"
   ]
  },
  {
   "cell_type": "code",
   "execution_count": 13,
   "metadata": {
    "collapsed": false
   },
   "outputs": [
   ],
   "source": [
    "u=function('u')(x)\n",
    "u(x)=x^2"
   ]
  },
  {
   "cell_type": "code",
   "execution_count": 14,
   "metadata": {
    "collapsed": false
   },
   "outputs": [
    {
     "data": {
      "text/plain": [
       "4*x^2"
      ]
     },
     "execution_count": 14,
     "metadata": {
     },
     "output_type": "execute_result"
    }
   ],
   "source": [
    "ans=x^2*diff(u,x,2)+2*x*diff(u,x)-2*u\n",
    "ans(x)"
   ]
  },
  {
   "cell_type": "code",
   "execution_count": 15,
   "metadata": {
    "collapsed": false
   },
   "outputs": [
    {
     "data": {
      "text/plain": [
       "4*x^2"
      ]
     },
     "execution_count": 15,
     "metadata": {
     },
     "output_type": "execute_result"
    }
   ],
   "source": [
    "expand(ans(x))"
   ]
  },
  {
   "cell_type": "code",
   "execution_count": 17,
   "metadata": {
    "collapsed": false
   },
   "outputs": [
   ],
   "source": [
    "def L(y):\n",
    "  a(x)=expand(x^2*diff(y,x,2)+2*x*diff(y,x)-2*y)\n",
    "  return a(x)"
   ]
  },
  {
   "cell_type": "code",
   "execution_count": 18,
   "metadata": {
    "collapsed": false
   },
   "outputs": [
    {
     "data": {
      "text/plain": [
       "4*x^2"
      ]
     },
     "execution_count": 18,
     "metadata": {
     },
     "output_type": "execute_result"
    }
   ],
   "source": [
    "L(u)"
   ]
  },
  {
   "cell_type": "code",
   "execution_count": 19,
   "metadata": {
    "collapsed": false
   },
   "outputs": [
    {
     "data": {
      "text/plain": [
       "x + 1/x^2"
      ]
     },
     "execution_count": 19,
     "metadata": {
     },
     "output_type": "execute_result"
    }
   ],
   "source": [
    "eqd=x^2*diff(y,x,2)+2*x*diff(y,x)-2*y==0\n",
    "sol = desolve(eqd,y,ics=[1,2,-1])\n",
    "sol"
   ]
  },
  {
   "cell_type": "code",
   "execution_count": 20,
   "metadata": {
    "collapsed": false
   },
   "outputs": [
   ],
   "source": [
    "reset()"
   ]
  },
  {
   "cell_type": "code",
   "execution_count": 21,
   "metadata": {
    "collapsed": false
   },
   "outputs": [
   ],
   "source": [
    "#Exercise4\n",
    "x=var('x')\n",
    "y=function('y')(x)\n",
    "y1=function('y1')(x)\n",
    "y2=function('y2')(x)\n",
    "y1(x)=e^x*cos(x)\n",
    "y2(x)=e^x*sin(x)\n"
   ]
  },
  {
   "cell_type": "code",
   "execution_count": 22,
   "metadata": {
    "collapsed": false
   },
   "outputs": [
    {
     "data": {
      "text/plain": [
       "[                   y(x)              cos(x)*e^x              e^x*sin(x)]\n",
       "[          diff(y(x), x) cos(x)*e^x - e^x*sin(x) cos(x)*e^x + e^x*sin(x)]\n",
       "[       diff(y(x), x, x)           -2*e^x*sin(x)            2*cos(x)*e^x]"
      ]
     },
     "execution_count": 22,
     "metadata": {
     },
     "output_type": "execute_result"
    }
   ],
   "source": [
    "W = matrix([[y(x),y1(x),y2(x)], [diff(y,x)(x), diff(y1,x)(x),diff(y2,x)(x)],[diff(y,x,2)(x), diff(y1,x,2)(x),diff(y2,x,2)(x)]])\n",
    "W"
   ]
  },
  {
   "cell_type": "code",
   "execution_count": 23,
   "metadata": {
    "collapsed": false
   },
   "outputs": [
    {
     "data": {
      "text/plain": [
       "2*((cos(x)*e^x - e^x*sin(x))*cos(x)*e^x + (cos(x)*e^x + e^x*sin(x))*e^x*sin(x))*y(x) - 2*(cos(x)^2*e^(2*x) + e^(2*x)*sin(x)^2)*diff(y(x), x) + ((cos(x)*e^x + e^x*sin(x))*cos(x)*e^x - (cos(x)*e^x - e^x*sin(x))*e^x*sin(x))*diff(y(x), x, x) == 0"
      ]
     },
     "execution_count": 23,
     "metadata": {
     },
     "output_type": "execute_result"
    }
   ],
   "source": [
    "det(W)==0"
   ]
  },
  {
   "cell_type": "code",
   "execution_count": 29,
   "metadata": {
    "collapsed": false
   },
   "outputs": [
   ],
   "source": [
    "#Exercise5\n",
    "reset()\n",
    "t=var('t')\n",
    "x=function('x')(t)\n",
    "u=var('s')\n",
    "f=function('f')(s)\n",
    "f(s)=9*s-s^3"
   ]
  },
  {
   "cell_type": "code",
   "execution_count": 30,
   "metadata": {
    "collapsed": false
   },
   "outputs": [
    {
     "data": {
      "text/plain": [
       "[s == -3, s == 3, s == 0]"
      ]
     },
     "execution_count": 30,
     "metadata": {
     },
     "output_type": "execute_result"
    }
   ],
   "source": [
    "eqp=solve(f(s)==0,s)\n",
    "eqp"
   ]
  },
  {
   "cell_type": "code",
   "execution_count": 31,
   "metadata": {
    "collapsed": false
   },
   "outputs": [
   ],
   "source": [
    "#Exercise6\n",
    "t = var('t')\n",
    "x=function('x')(t)\n",
    "y=function('y')(t)\n",
    "deq1=diff(x,t)==x+4*y\n",
    "deq2=diff(y,t)==x+y\n",
    "syst=[deq1,deq2]\n"
   ]
  },
  {
   "cell_type": "code",
   "execution_count": 32,
   "metadata": {
    "collapsed": false
   },
   "outputs": [
    {
     "data": {
      "text/plain": [
       "[x(t) == 1/2*(x(0) + 2*y(0))*e^(3*t) + 1/2*(x(0) - 2*y(0))*e^(-t),\n",
       " y(t) == 1/4*(x(0) + 2*y(0))*e^(3*t) - 1/4*(x(0) - 2*y(0))*e^(-t)]"
      ]
     },
     "execution_count": 32,
     "metadata": {
     },
     "output_type": "execute_result"
    }
   ],
   "source": [
    "desolve_system(syst, [x,y])"
   ]
  },
  {
   "cell_type": "code",
   "execution_count": 33,
   "metadata": {
    "collapsed": false
   },
   "outputs": [
    {
     "data": {
      "text/plain": [
       "[x(t) == 2*e^(3*t) + 2*e^(-t), y(t) == e^(3*t) - e^(-t)]"
      ]
     },
     "execution_count": 33,
     "metadata": {
     },
     "output_type": "execute_result"
    }
   ],
   "source": [
    "C1,C2=var('C1,C2')\n",
    "desolve_system(syst, [x,y],[0,4,0])"
   ]
  },
  {
   "cell_type": "code",
   "execution_count": 0,
   "metadata": {
    "collapsed": false
   },
   "outputs": [
   ],
   "source": [
   ]
  }
 ],
 "metadata": {
  "kernelspec": {
   "display_name": "SageMath 9.2",
   "language": "sagemath",
   "metadata": {
    "cocalc": {
     "description": "Open-source mathematical software system",
     "priority": 10,
     "url": "https://www.sagemath.org/"
    }
   },
   "name": "sage-9.2",
   "resource_dir": "/ext/jupyter/kernels/sage-9.2"
  },
  "language_info": {
   "codemirror_mode": {
    "name": "ipython",
    "version": 3
   },
   "file_extension": ".py",
   "mimetype": "text/x-python",
   "name": "python",
   "nbconvert_exporter": "python",
   "pygments_lexer": "ipython3",
   "version": "3.8.5"
  }
 },
 "nbformat": 4,
 "nbformat_minor": 4
}