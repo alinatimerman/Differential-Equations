{
 "cells": [
  {
   "cell_type": "code",
   "execution_count": 1,
   "metadata": {},
   "outputs": [],
   "source": [
    "u=function('u')(x)\n",
    "u(x)=e^(2*x)"
   ]
  },
  {
   "cell_type": "code",
   "execution_count": 4,
   "metadata": {},
   "outputs": [],
   "source": [
    "def L(y):\n",
    "    a(x)=expand(x*diff(y,x,2)-(x+1)*diff(y,x)-2*(x-1)*y)\n",
    "    return a(x)"
   ]
  },
  {
   "cell_type": "code",
   "execution_count": 5,
   "metadata": {},
   "outputs": [
    {
     "data": {
      "text/plain": [
       "0"
      ]
     },
     "execution_count": 5,
     "metadata": {},
     "output_type": "execute_result"
    }
   ],
   "source": [
    "L(u)"
   ]
  },
  {
   "cell_type": "code",
   "execution_count": 6,
   "metadata": {},
   "outputs": [],
   "source": [
    "u=function('u')(x)\n",
    "u(x)=x^2+1"
   ]
  },
  {
   "cell_type": "code",
   "execution_count": 7,
   "metadata": {},
   "outputs": [
    {
     "data": {
      "text/plain": [
       "-2*x^3 - 2*x + 2"
      ]
     },
     "execution_count": 7,
     "metadata": {},
     "output_type": "execute_result"
    }
   ],
   "source": [
    "L(u)"
   ]
  },
  {
   "cell_type": "code",
   "execution_count": null,
   "metadata": {},
   "outputs": [],
   "source": []
  },
  {
   "cell_type": "code",
   "execution_count": 8,
   "metadata": {},
   "outputs": [],
   "source": [
    "def L(y):\n",
    "    a(x)=expand(diff(y,x,2)-tan(x)*diff(y,x)+2*y)\n",
    "    return a(x)"
   ]
  },
  {
   "cell_type": "code",
   "execution_count": 9,
   "metadata": {},
   "outputs": [],
   "source": [
    "u=function('u')(x)\n",
    "u(x)=cos(x)"
   ]
  },
  {
   "cell_type": "code",
   "execution_count": 10,
   "metadata": {},
   "outputs": [
    {
     "data": {
      "text/plain": [
       "sin(x)*tan(x) + cos(x)"
      ]
     },
     "execution_count": 10,
     "metadata": {},
     "output_type": "execute_result"
    }
   ],
   "source": [
    "expand(L(u))"
   ]
  },
  {
   "cell_type": "code",
   "execution_count": 11,
   "metadata": {},
   "outputs": [],
   "source": [
    "u=function('u')(x)\n",
    "u(x)=sin(x)"
   ]
  },
  {
   "cell_type": "code",
   "execution_count": 12,
   "metadata": {},
   "outputs": [
    {
     "data": {
      "text/plain": [
       "-cos(x)*tan(x) + sin(x)"
      ]
     },
     "execution_count": 12,
     "metadata": {},
     "output_type": "execute_result"
    }
   ],
   "source": [
    "expand(L(u))"
   ]
  },
  {
   "cell_type": "code",
   "execution_count": null,
   "metadata": {},
   "outputs": [],
   "source": []
  },
  {
   "cell_type": "code",
   "execution_count": 13,
   "metadata": {},
   "outputs": [],
   "source": [
    "reset()\n",
    "x=var('x')\n",
    "y=function('y')(x)\n",
    "deq=x^3*diff(y,x,3)-3*x^2*diff(y,x,2)+6*x*diff(y,x)-6*y==0"
   ]
  },
  {
   "cell_type": "code",
   "execution_count": 14,
   "metadata": {},
   "outputs": [],
   "source": [
    "u=function('u')(x)\n",
    "u(x)=x"
   ]
  },
  {
   "cell_type": "code",
   "execution_count": 15,
   "metadata": {},
   "outputs": [
    {
     "data": {
      "text/plain": [
       "0"
      ]
     },
     "execution_count": 15,
     "metadata": {},
     "output_type": "execute_result"
    }
   ],
   "source": [
    "ans=x^3*diff(u,x,3)-3*x^2*diff(u,x,2)+6*x*diff(u,x)-6*u\n",
    "ans(x)"
   ]
  },
  {
   "cell_type": "code",
   "execution_count": 16,
   "metadata": {},
   "outputs": [
    {
     "data": {
      "text/plain": [
       "0"
      ]
     },
     "execution_count": 16,
     "metadata": {},
     "output_type": "execute_result"
    }
   ],
   "source": [
    "expand(ans(x))"
   ]
  },
  {
   "cell_type": "code",
   "execution_count": 17,
   "metadata": {},
   "outputs": [],
   "source": [
    "u=function('u')(x)\n",
    "u(x)=x^2"
   ]
  },
  {
   "cell_type": "code",
   "execution_count": 18,
   "metadata": {},
   "outputs": [
    {
     "data": {
      "text/plain": [
       "0"
      ]
     },
     "execution_count": 18,
     "metadata": {},
     "output_type": "execute_result"
    }
   ],
   "source": [
    "ans=x^3*diff(u,x,3)-3*x^2*diff(u,x,2)+6*x*diff(u,x)-6*u\n",
    "ans(x)"
   ]
  },
  {
   "cell_type": "code",
   "execution_count": 19,
   "metadata": {},
   "outputs": [
    {
     "data": {
      "text/plain": [
       "0"
      ]
     },
     "execution_count": 19,
     "metadata": {},
     "output_type": "execute_result"
    }
   ],
   "source": [
    "expand(ans(x))"
   ]
  },
  {
   "cell_type": "code",
   "execution_count": null,
   "metadata": {},
   "outputs": [],
   "source": []
  },
  {
   "cell_type": "code",
   "execution_count": 20,
   "metadata": {},
   "outputs": [],
   "source": [
    "reset()\n",
    "x=var('x')\n",
    "y=function('y')(x)\n",
    "deq=x*diff(y,x,2)-(2*x+1)*diff(y,x)+(x+1)*y==2*x^2+exp(x)"
   ]
  },
  {
   "cell_type": "code",
   "execution_count": 21,
   "metadata": {},
   "outputs": [],
   "source": [
    "u=function('u')(x)\n",
    "u(x)=(2/3)*x^3*exp(x)"
   ]
  },
  {
   "cell_type": "code",
   "execution_count": 22,
   "metadata": {},
   "outputs": [
    {
     "data": {
      "text/plain": [
       "2/3*(x + 1)*x^3*e^x - 2/3*(x^3*e^x + 3*x^2*e^x)*(2*x + 1) + 2/3*(x^3*e^x + 6*x^2*e^x + 6*x*e^x)*x"
      ]
     },
     "execution_count": 22,
     "metadata": {},
     "output_type": "execute_result"
    }
   ],
   "source": [
    "ans=x*diff(u,x,2)-(2*x+1)*diff(u,x)+(x+1)*u\n",
    "ans(x)"
   ]
  },
  {
   "cell_type": "code",
   "execution_count": 23,
   "metadata": {},
   "outputs": [
    {
     "data": {
      "text/plain": [
       "2*x^2*e^x"
      ]
     },
     "execution_count": 23,
     "metadata": {},
     "output_type": "execute_result"
    }
   ],
   "source": [
    "expand(ans(x))"
   ]
  },
  {
   "cell_type": "code",
   "execution_count": 24,
   "metadata": {},
   "outputs": [],
   "source": [
    "u=function('u')(x)\n",
    "u(x)=x^2*exp(x)"
   ]
  },
  {
   "cell_type": "code",
   "execution_count": 25,
   "metadata": {},
   "outputs": [
    {
     "data": {
      "text/plain": [
       "(x + 1)*x^2*e^x - (x^2*e^x + 2*x*e^x)*(2*x + 1) + (x^2*e^x + 4*x*e^x + 2*e^x)*x"
      ]
     },
     "execution_count": 25,
     "metadata": {},
     "output_type": "execute_result"
    }
   ],
   "source": [
    "ans=x*diff(u,x,2)-(2*x+1)*diff(u,x)+(x+1)*u\n",
    "ans(x)"
   ]
  },
  {
   "cell_type": "code",
   "execution_count": 26,
   "metadata": {},
   "outputs": [
    {
     "data": {
      "text/plain": [
       "0"
      ]
     },
     "execution_count": 26,
     "metadata": {},
     "output_type": "execute_result"
    }
   ],
   "source": [
    "expand(ans(x))"
   ]
  },
  {
   "cell_type": "code",
   "execution_count": null,
   "metadata": {},
   "outputs": [],
   "source": []
  },
  {
   "cell_type": "code",
   "execution_count": null,
   "metadata": {},
   "outputs": [],
   "source": []
  },
  {
   "cell_type": "code",
   "execution_count": null,
   "metadata": {},
   "outputs": [],
   "source": []
  },
  {
   "cell_type": "code",
   "execution_count": 27,
   "metadata": {},
   "outputs": [],
   "source": [
    "reset()\n",
    "x=var('x')\n",
    "y=function('y')(x)\n",
    "deq=x*diff(y,x,2)-(2*x+1)*diff(y,x)+2*y==0"
   ]
  },
  {
   "cell_type": "code",
   "execution_count": 28,
   "metadata": {},
   "outputs": [],
   "source": [
    "a=var('a')\n",
    "u=function('u')(x)\n",
    "u(x)=exp(a*x)"
   ]
  },
  {
   "cell_type": "code",
   "execution_count": 29,
   "metadata": {},
   "outputs": [],
   "source": [
    "def L(y):\n",
    "    a(x)=expand(x*diff(y,x,2)-(2*x+1)*diff(y,x)+2*y)\n",
    "    return a(x)"
   ]
  },
  {
   "cell_type": "code",
   "execution_count": 30,
   "metadata": {},
   "outputs": [
    {
     "data": {
      "text/plain": [
       "a^2*x*e^(a*x) - 2*a*x*e^(a*x) - a*e^(a*x) + 2*e^(a*x)"
      ]
     },
     "execution_count": 30,
     "metadata": {},
     "output_type": "execute_result"
    }
   ],
   "source": [
    "L(u)"
   ]
  },
  {
   "cell_type": "code",
   "execution_count": 31,
   "metadata": {},
   "outputs": [
    {
     "data": {
      "text/plain": [
       "(a^2*x*e^(a*x) - 2*a*x*e^(a*x) - a*e^(a*x) + 2*e^(a*x))*e^(-a*x)"
      ]
     },
     "execution_count": 31,
     "metadata": {},
     "output_type": "execute_result"
    }
   ],
   "source": [
    "L(u)/exp(a*x)"
   ]
  },
  {
   "cell_type": "code",
   "execution_count": 32,
   "metadata": {},
   "outputs": [
    {
     "data": {
      "text/plain": [
       "(a*x - 1)*(a - 2)"
      ]
     },
     "execution_count": 32,
     "metadata": {},
     "output_type": "execute_result"
    }
   ],
   "source": [
    "ans=factor(L(u))/exp(a*x)\n",
    "ans"
   ]
  },
  {
   "cell_type": "code",
   "execution_count": 33,
   "metadata": {},
   "outputs": [
    {
     "data": {
      "text/plain": [
       "0"
      ]
     },
     "execution_count": 33,
     "metadata": {},
     "output_type": "execute_result"
    }
   ],
   "source": [
    "u(x)=exp(2*x)\n",
    "L(u)"
   ]
  },
  {
   "cell_type": "code",
   "execution_count": null,
   "metadata": {},
   "outputs": [],
   "source": []
  },
  {
   "cell_type": "code",
   "execution_count": 34,
   "metadata": {},
   "outputs": [],
   "source": [
    "reset()\n",
    "x=var('x')\n",
    "y=function('y')(x)\n",
    "deq=diff(y,x,2)+diff(y,x)-(y/x)==0"
   ]
  },
  {
   "cell_type": "code",
   "execution_count": 36,
   "metadata": {},
   "outputs": [],
   "source": [
    "a=var('a')\n",
    "b=var('b')\n",
    "u=function('u')(x)\n",
    "u(x)=a*x+b"
   ]
  },
  {
   "cell_type": "code",
   "execution_count": 37,
   "metadata": {},
   "outputs": [],
   "source": [
    "def L(y):\n",
    "    a(x)=expand(diff(y,x,2)+diff(y,x)-(y/x))\n",
    "    return a(x)"
   ]
  },
  {
   "cell_type": "code",
   "execution_count": 38,
   "metadata": {},
   "outputs": [
    {
     "data": {
      "text/plain": [
       "-b/x"
      ]
     },
     "execution_count": 38,
     "metadata": {},
     "output_type": "execute_result"
    }
   ],
   "source": [
    "L(u)"
   ]
  },
  {
   "cell_type": "code",
   "execution_count": 39,
   "metadata": {},
   "outputs": [
    {
     "data": {
      "text/plain": [
       "-b/((a*x + b)*x)"
      ]
     },
     "execution_count": 39,
     "metadata": {},
     "output_type": "execute_result"
    }
   ],
   "source": [
    "L(u)/(a*x+b)"
   ]
  },
  {
   "cell_type": "code",
   "execution_count": 40,
   "metadata": {},
   "outputs": [
    {
     "data": {
      "text/plain": [
       "-b/((a*x + b)*x)"
      ]
     },
     "execution_count": 40,
     "metadata": {},
     "output_type": "execute_result"
    }
   ],
   "source": [
    "ans=factor(L(u))/(a*x+b)\n",
    "ans"
   ]
  },
  {
   "cell_type": "code",
   "execution_count": null,
   "metadata": {},
   "outputs": [],
   "source": []
  },
  {
   "cell_type": "code",
   "execution_count": 41,
   "metadata": {},
   "outputs": [],
   "source": [
    "reset()\n",
    "x=var('x')\n",
    "y=function('y')(x)\n",
    "deq=x*diff(y,x,2)+2*diff(y,x)-(x*y)==0"
   ]
  },
  {
   "cell_type": "code",
   "execution_count": 42,
   "metadata": {},
   "outputs": [],
   "source": [
    "a=var('a')\n",
    "b=var('b')\n",
    "c=var('c')\n",
    "u=function('u')(x)\n",
    "u(x)=exp(a*x)/(b*x+c)"
   ]
  },
  {
   "cell_type": "code",
   "execution_count": 43,
   "metadata": {},
   "outputs": [],
   "source": [
    "def L(y):\n",
    "    a(x)=expand(x*diff(y,x,2)+2*diff(y,x)-(x*y))\n",
    "    return a(x)"
   ]
  },
  {
   "cell_type": "code",
   "execution_count": 44,
   "metadata": {},
   "outputs": [
    {
     "data": {
      "text/plain": [
       "a^2*x*e^(a*x)/(b*x + c) - 2*a*b*x*e^(a*x)/(b^2*x^2 + 2*b*c*x + c^2) + 2*b^2*x*e^(a*x)/(b^3*x^3 + 3*b^2*c*x^2 + 3*b*c^2*x + c^3) + 2*a*e^(a*x)/(b*x + c) - 2*b*e^(a*x)/(b^2*x^2 + 2*b*c*x + c^2) - x*e^(a*x)/(b*x + c)"
      ]
     },
     "execution_count": 44,
     "metadata": {},
     "output_type": "execute_result"
    }
   ],
   "source": [
    "L(u)"
   ]
  },
  {
   "cell_type": "code",
   "execution_count": 45,
   "metadata": {},
   "outputs": [
    {
     "data": {
      "text/plain": [
       "(a^2*x*e^(a*x)/(b*x + c) - 2*a*b*x*e^(a*x)/(b^2*x^2 + 2*b*c*x + c^2) + 2*b^2*x*e^(a*x)/(b^3*x^3 + 3*b^2*c*x^2 + 3*b*c^2*x + c^3) + 2*a*e^(a*x)/(b*x + c) - 2*b*e^(a*x)/(b^2*x^2 + 2*b*c*x + c^2) - x*e^(a*x)/(b*x + c))*(b*x + c)*e^(-a*x)"
      ]
     },
     "execution_count": 45,
     "metadata": {},
     "output_type": "execute_result"
    }
   ],
   "source": [
    "L(u)/(exp(a*x)/(b*x+c))"
   ]
  },
  {
   "cell_type": "code",
   "execution_count": 47,
   "metadata": {},
   "outputs": [
    {
     "data": {
      "text/plain": [
       "(a^2*b^2*x^3 + 2*a^2*b*c*x^2 + a^2*c^2*x - b^2*x^3 + 2*a*b*c*x - 2*b*c*x^2 + 2*a*c^2 - c^2*x - 2*b*c)/(b*x + c)^2"
      ]
     },
     "execution_count": 47,
     "metadata": {},
     "output_type": "execute_result"
    }
   ],
   "source": [
    "ans=factor(L(u))/(exp(a*x)/(b*x+c))\n",
    "ans"
   ]
  },
  {
   "cell_type": "code",
   "execution_count": null,
   "metadata": {},
   "outputs": [],
   "source": []
  },
  {
   "cell_type": "code",
   "execution_count": 48,
   "metadata": {},
   "outputs": [],
   "source": [
    "reset()\n",
    "x=var('x')\n",
    "y=function('y')(x)\n",
    "deq=x*diff(y,x,3)-diff(y,x,2)-x*diff(y,x)+y==-x^2"
   ]
  },
  {
   "cell_type": "code",
   "execution_count": 49,
   "metadata": {},
   "outputs": [],
   "source": [
    "a=var('a')\n",
    "b=var('b')\n",
    "c=var('c')\n",
    "u=function('u')(x)\n",
    "u(x)=a*x^2+b*x+c"
   ]
  },
  {
   "cell_type": "code",
   "execution_count": 50,
   "metadata": {},
   "outputs": [],
   "source": [
    "def L(y):\n",
    "    a(x)=expand(x*diff(y,x,3)-diff(y,x,2)-x*diff(y,x)+y)\n",
    "    return a(x)"
   ]
  },
  {
   "cell_type": "code",
   "execution_count": 51,
   "metadata": {},
   "outputs": [
    {
     "data": {
      "text/plain": [
       "-a*x^2 - 2*a + c"
      ]
     },
     "execution_count": 51,
     "metadata": {},
     "output_type": "execute_result"
    }
   ],
   "source": [
    "L(u)"
   ]
  },
  {
   "cell_type": "code",
   "execution_count": 53,
   "metadata": {},
   "outputs": [
    {
     "data": {
      "text/plain": [
       "-(a*x^2 + 2*a - c)/(a*x^2 + b*x + c)"
      ]
     },
     "execution_count": 53,
     "metadata": {},
     "output_type": "execute_result"
    }
   ],
   "source": [
    "L(u)/(a*x^2+b*x+c)"
   ]
  },
  {
   "cell_type": "code",
   "execution_count": 54,
   "metadata": {},
   "outputs": [
    {
     "data": {
      "text/plain": [
       "-(a*x^2 + 2*a - c)/(a*x^2 + b*x + c)"
      ]
     },
     "execution_count": 54,
     "metadata": {},
     "output_type": "execute_result"
    }
   ],
   "source": [
    "ans=factor(L(u))/(a*x^2+b*x+c)\n",
    "ans"
   ]
  },
  {
   "cell_type": "code",
   "execution_count": null,
   "metadata": {},
   "outputs": [],
   "source": []
  },
  {
   "cell_type": "code",
   "execution_count": null,
   "metadata": {},
   "outputs": [],
   "source": []
  },
  {
   "cell_type": "code",
   "execution_count": null,
   "metadata": {},
   "outputs": [],
   "source": []
  },
  {
   "cell_type": "code",
   "execution_count": 55,
   "metadata": {},
   "outputs": [],
   "source": [
    "reset()\n",
    "x=var('x')\n",
    "y=function('y')(x)\n",
    "deq=(x-1)*diff(y,x,2)-x*diff(y,x)+y==0"
   ]
  },
  {
   "cell_type": "code",
   "execution_count": 56,
   "metadata": {},
   "outputs": [],
   "source": [
    "def L(y):\n",
    "    a(x)=expand((x-1)*diff(y,x,2)-x*diff(y,x)+y)\n",
    "    return a(x)"
   ]
  },
  {
   "cell_type": "code",
   "execution_count": 57,
   "metadata": {},
   "outputs": [],
   "source": [
    "y1=function('y1')(x)\n",
    "y2=function('y2')(x)\n",
    "y1(x)=x\n",
    "y2(x)=e^x"
   ]
  },
  {
   "cell_type": "code",
   "execution_count": 58,
   "metadata": {},
   "outputs": [
    {
     "data": {
      "text/plain": [
       "0"
      ]
     },
     "execution_count": 58,
     "metadata": {},
     "output_type": "execute_result"
    }
   ],
   "source": [
    "L(y1)"
   ]
  },
  {
   "cell_type": "code",
   "execution_count": 59,
   "metadata": {},
   "outputs": [
    {
     "data": {
      "text/plain": [
       "0"
      ]
     },
     "execution_count": 59,
     "metadata": {},
     "output_type": "execute_result"
    }
   ],
   "source": [
    "L(y2)"
   ]
  },
  {
   "cell_type": "code",
   "execution_count": 60,
   "metadata": {},
   "outputs": [
    {
     "data": {
      "text/plain": [
       "[  x e^x]\n",
       "[  1 e^x]"
      ]
     },
     "execution_count": 60,
     "metadata": {},
     "output_type": "execute_result"
    }
   ],
   "source": [
    "W=matrix([[y1(x),y2(x)],[diff(y1,x)(x),diff(y2,x)(x)]])\n",
    "W"
   ]
  },
  {
   "cell_type": "code",
   "execution_count": 61,
   "metadata": {},
   "outputs": [
    {
     "data": {
      "text/plain": [
       "x*e^x - e^x"
      ]
     },
     "execution_count": 61,
     "metadata": {},
     "output_type": "execute_result"
    }
   ],
   "source": [
    "det(W)"
   ]
  },
  {
   "cell_type": "code",
   "execution_count": null,
   "metadata": {},
   "outputs": [],
   "source": []
  },
  {
   "cell_type": "code",
   "execution_count": 62,
   "metadata": {},
   "outputs": [],
   "source": [
    "reset()\n",
    "x=var('x')\n",
    "y=function('y')(x)\n",
    "deq=x*diff(y,x,2)-2*x*diff(y,x)-x*y==0"
   ]
  },
  {
   "cell_type": "code",
   "execution_count": 63,
   "metadata": {},
   "outputs": [],
   "source": [
    "def L(y):\n",
    "    a(x)=expand(x*diff(y,x,2)-2*x*diff(y,x)-x*y)\n",
    "    return a(x)"
   ]
  },
  {
   "cell_type": "code",
   "execution_count": 64,
   "metadata": {},
   "outputs": [],
   "source": [
    "y1=function('y1')(x)\n",
    "y2=function('y2')(x)\n",
    "y1(x)=e^x/x\n",
    "y2(x)=e^(-x)/x"
   ]
  },
  {
   "cell_type": "code",
   "execution_count": 65,
   "metadata": {},
   "outputs": [
    {
     "data": {
      "text/plain": [
       "2*e^x/x^2 - 2*e^x"
      ]
     },
     "execution_count": 65,
     "metadata": {},
     "output_type": "execute_result"
    }
   ],
   "source": [
    "L(y1)"
   ]
  },
  {
   "cell_type": "code",
   "execution_count": 66,
   "metadata": {},
   "outputs": [
    {
     "data": {
      "text/plain": [
       "4*e^(-x)/x + 2*e^(-x)/x^2 + 2*e^(-x)"
      ]
     },
     "execution_count": 66,
     "metadata": {},
     "output_type": "execute_result"
    }
   ],
   "source": [
    "L(y2)"
   ]
  },
  {
   "cell_type": "code",
   "execution_count": 67,
   "metadata": {},
   "outputs": [
    {
     "data": {
      "text/plain": [
       "[                 e^x/x               e^(-x)/x]\n",
       "[       e^x/x - e^x/x^2 -e^(-x)/x - e^(-x)/x^2]"
      ]
     },
     "execution_count": 67,
     "metadata": {},
     "output_type": "execute_result"
    }
   ],
   "source": [
    "W=matrix([[y1(x),y2(x)],[diff(y1,x)(x),diff(y2,x)(x)]])\n",
    "W"
   ]
  },
  {
   "cell_type": "code",
   "execution_count": 68,
   "metadata": {},
   "outputs": [
    {
     "data": {
      "text/plain": [
       "-(e^x/x - e^x/x^2)*e^(-x)/x - (e^(-x)/x + e^(-x)/x^2)*e^x/x"
      ]
     },
     "execution_count": 68,
     "metadata": {},
     "output_type": "execute_result"
    }
   ],
   "source": [
    "det(W)"
   ]
  },
  {
   "cell_type": "code",
   "execution_count": null,
   "metadata": {},
   "outputs": [],
   "source": []
  }
 ],
 "metadata": {
  "kernelspec": {
   "display_name": "SageMath 9.1",
   "language": "sage",
   "name": "sagemath"
  },
  "language_info": {
   "codemirror_mode": {
    "name": "ipython",
    "version": 3
   },
   "file_extension": ".py",
   "mimetype": "text/x-python",
   "name": "python",
   "nbconvert_exporter": "python",
   "pygments_lexer": "ipython3",
   "version": "3.7.3"
  }
 },
 "nbformat": 4,
 "nbformat_minor": 2
}
