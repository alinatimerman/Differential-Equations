{
 "cells": [
  {
   "cell_type": "code",
   "execution_count": 1,
   "metadata": {},
   "outputs": [],
   "source": []
  },
  {
   "cell_type": "code",
   "execution_count": 13,
   "metadata": {},
   "outputs": [],
   "source": [
    "reset()\n",
    "t=var('t')\n",
    "x=function('x')(t)"
   ]
  },
  {
   "cell_type": "code",
   "execution_count": 14,
   "metadata": {},
   "outputs": [],
   "source": [
    "u=var('s')\n",
    "f=function('f')(s)\n",
    "f(s)=s*s-2*s"
   ]
  },
  {
   "cell_type": "code",
   "execution_count": 15,
   "metadata": {},
   "outputs": [
    {
     "data": {
      "text/plain": [
       "[s == 0, s == 2]"
      ]
     },
     "execution_count": 15,
     "metadata": {},
     "output_type": "execute_result"
    }
   ],
   "source": [
    "eqp=solve(f(s)==0,s)\n",
    "eqp"
   ]
  },
  {
   "cell_type": "code",
   "execution_count": 16,
   "metadata": {},
   "outputs": [
    {
     "data": {
      "text/plain": [
       "0"
      ]
     },
     "execution_count": 16,
     "metadata": {},
     "output_type": "execute_result"
    }
   ],
   "source": [
    "x1=eqp[0].rhs()\n",
    "x1"
   ]
  },
  {
   "cell_type": "code",
   "execution_count": 17,
   "metadata": {},
   "outputs": [
    {
     "data": {
      "text/plain": [
       "2"
      ]
     },
     "execution_count": 17,
     "metadata": {},
     "output_type": "execute_result"
    }
   ],
   "source": [
    "x2=eqp[1].rhs()\n",
    "x2"
   ]
  },
  {
   "cell_type": "code",
   "execution_count": 18,
   "metadata": {},
   "outputs": [
    {
     "data": {
      "text/plain": [
       "-2"
      ]
     },
     "execution_count": 18,
     "metadata": {},
     "output_type": "execute_result"
    }
   ],
   "source": [
    "diff(f,u)(x1)"
   ]
  },
  {
   "cell_type": "code",
   "execution_count": 19,
   "metadata": {},
   "outputs": [
    {
     "data": {
      "text/plain": [
       "2"
      ]
     },
     "execution_count": 19,
     "metadata": {},
     "output_type": "execute_result"
    }
   ],
   "source": [
    "diff(f,u)(x2)"
   ]
  },
  {
   "cell_type": "code",
   "execution_count": 20,
   "metadata": {},
   "outputs": [
    {
     "data": {
      "text/plain": [
       "diff(x(t), t) == x(t)^2 - 2*x(t)"
      ]
     },
     "execution_count": 20,
     "metadata": {},
     "output_type": "execute_result"
    }
   ],
   "source": [
    "deq=diff(x,t)==f(x)\n",
    "deq"
   ]
  },
  {
   "cell_type": "code",
   "execution_count": 21,
   "metadata": {},
   "outputs": [
    {
     "data": {
      "text/plain": [
       "[[-5.0, 0.0],\n",
       " [-4.5, 0.0],\n",
       " [-4.0, 0.0],\n",
       " [-3.5, 0.0],\n",
       " [-3.0, 0.0],\n",
       " [-2.5, 0.0],\n",
       " [-2.0, 0.0],\n",
       " [-1.5, 0.0],\n",
       " [-1.0, 0.0],\n",
       " [-0.5, 0.0],\n",
       " [0, 0],\n",
       " [0.5, 0.0],\n",
       " [1.0, 0.0],\n",
       " [1.5, 0.0],\n",
       " [2.0, 0.0],\n",
       " [2.5, 0.0],\n",
       " [3.0, 0.0],\n",
       " [3.5, 0.0],\n",
       " [4.0, 0.0],\n",
       " [4.5, 0.0],\n",
       " [5.0, 0.0]]"
      ]
     },
     "execution_count": 21,
     "metadata": {},
     "output_type": "execute_result"
    }
   ],
   "source": [
    "desolve_rk4(deq,x,[0,0,5],step=0.5,end_points=[-5,5],output='list')"
   ]
  },
  {
   "cell_type": "code",
   "execution_count": null,
   "metadata": {},
   "outputs": [],
   "source": []
  },
  {
   "cell_type": "code",
   "execution_count": null,
   "metadata": {},
   "outputs": [],
   "source": []
  },
  {
   "cell_type": "code",
   "execution_count": null,
   "metadata": {},
   "outputs": [],
   "source": []
  },
  {
   "cell_type": "code",
   "execution_count": 22,
   "metadata": {},
   "outputs": [],
   "source": [
    "reset()\n",
    "s,t=var('s,t')\n",
    "f=function('f')(s)\n",
    "f(s)=sin(s)"
   ]
  },
  {
   "cell_type": "code",
   "execution_count": 23,
   "metadata": {},
   "outputs": [
    {
     "data": {
      "text/plain": [
       "[s == 0]"
      ]
     },
     "execution_count": 23,
     "metadata": {},
     "output_type": "execute_result"
    }
   ],
   "source": [
    "eqp=solve(f(s)==0,s)\n",
    "eqp"
   ]
  },
  {
   "cell_type": "code",
   "execution_count": 24,
   "metadata": {},
   "outputs": [
    {
     "data": {
      "text/plain": [
       "[s == pi*z29]"
      ]
     },
     "execution_count": 24,
     "metadata": {},
     "output_type": "execute_result"
    }
   ],
   "source": [
    "eqp=solve(f(s)==0,s,to_poly_solve='force')\n",
    "eqp"
   ]
  },
  {
   "cell_type": "code",
   "execution_count": 26,
   "metadata": {},
   "outputs": [
    {
     "data": {
      "text/plain": [
       "z29 |--> pi*z29"
      ]
     },
     "execution_count": 26,
     "metadata": {},
     "output_type": "execute_result"
    }
   ],
   "source": [
    "xk(z29)=eqp[0].rhs()\n",
    "xk"
   ]
  },
  {
   "cell_type": "code",
   "execution_count": 27,
   "metadata": {},
   "outputs": [
    {
     "data": {
      "text/plain": [
       "-pi"
      ]
     },
     "execution_count": 27,
     "metadata": {},
     "output_type": "execute_result"
    }
   ],
   "source": [
    "xk(-1)"
   ]
  },
  {
   "cell_type": "code",
   "execution_count": 28,
   "metadata": {},
   "outputs": [
    {
     "data": {
      "text/plain": [
       "cos(pi*k)"
      ]
     },
     "execution_count": 28,
     "metadata": {},
     "output_type": "execute_result"
    }
   ],
   "source": [
    "k=var('k')\n",
    "diff(f,s)(xk(k))"
   ]
  },
  {
   "cell_type": "code",
   "execution_count": 29,
   "metadata": {},
   "outputs": [
    {
     "data": {
      "text/plain": [
       "cos(pi*k)"
      ]
     },
     "execution_count": 29,
     "metadata": {},
     "output_type": "execute_result"
    }
   ],
   "source": [
    "diff(f,s)(xk(k)).trig_simplify()"
   ]
  },
  {
   "cell_type": "code",
   "execution_count": 30,
   "metadata": {},
   "outputs": [
    {
     "data": {
      "text/plain": [
       "1"
      ]
     },
     "execution_count": 30,
     "metadata": {},
     "output_type": "execute_result"
    }
   ],
   "source": [
    "diff(f,s)(xk(2))"
   ]
  },
  {
   "cell_type": "code",
   "execution_count": 31,
   "metadata": {},
   "outputs": [
    {
     "data": {
      "text/plain": [
       "2*cos(pi*k)^2 - 1"
      ]
     },
     "execution_count": 31,
     "metadata": {},
     "output_type": "execute_result"
    }
   ],
   "source": [
    "diff(f,s)(xk(2*k)).trig_expand().full_simplify()"
   ]
  },
  {
   "cell_type": "code",
   "execution_count": 32,
   "metadata": {},
   "outputs": [
    {
     "data": {
      "text/plain": [
       "-2*pi"
      ]
     },
     "execution_count": 32,
     "metadata": {},
     "output_type": "execute_result"
    }
   ],
   "source": [
    "x1=xk(-2)\n",
    "x2=xk(-1)\n",
    "x3=xk(0)\n",
    "x4=xk(1)\n",
    "x5=xk(2)\n",
    "x1"
   ]
  },
  {
   "cell_type": "code",
   "execution_count": 33,
   "metadata": {},
   "outputs": [
    {
     "data": {
      "text/plain": [
       "pi"
      ]
     },
     "execution_count": 33,
     "metadata": {},
     "output_type": "execute_result"
    }
   ],
   "source": [
    "x4"
   ]
  },
  {
   "cell_type": "code",
   "execution_count": 34,
   "metadata": {},
   "outputs": [],
   "source": [
    "x=function('x')(t)\n",
    "deq=diff(x,t)==f(x)"
   ]
  },
  {
   "cell_type": "code",
   "execution_count": 37,
   "metadata": {},
   "outputs": [
    {
     "data": {
      "image/png": "[encoded data removed]",
      "text/plain": [
       "Graphics object consisting of 11 graphics primitives"
      ]
     },
     "metadata": {},
     "output_type": "display_data"
    }
   ],
   "source": [
    "sf=plot_slope_field(f(s),(t,-7,7),(s,-7,7),headaxislength=3,headlength=4,color='red')\n",
    "g1=desolve_rk4(deq,x,[0,-6.5],step=0.01,end_points=[-7,7],output='plot',color='blue')\n",
    "g2=desolve_rk4(deq,x,[0,numerical_approx(x1)],step=0.01,end_points=[-7,7],output='plot',color='black')\n",
    "g3=desolve_rk4(deq,x,[0,-5],step=0.01,end_points=[-7,7],output='plot',color='blue')\n",
    "g4=desolve_rk4(deq,x,[0,numerical_approx(x2)],step=0.01,end_points=[-7,7],output='plot',color='black')\n",
    "g5=desolve_rk4(deq,x,[0,-2],step=0.01,end_points=[-7,7],output='plot',color='blue')\n",
    "g6=desolve_rk4(deq,x,[0,numerical_approx(x3)],step=0.01,end_points=[-7,7],output='plot',color='black')\n",
    "g7=desolve_rk4(deq,x,[0,1],step=0.01,end_points=[-7,7],output='plot',color='blue')\n",
    "g8=desolve_rk4(deq,x,[0,numerical_approx(x4)],step=0.01,end_points=[-7,7],output='plot',color='black')\n",
    "g9=desolve_rk4(deq,x,[0,4],step=0.01,end_points=[-7,7],output='plot',color='blue')\n",
    "g10=desolve_rk4(deq,x,[0,numerical_approx(x5)],step=0.01,end_points=[-7,7],output='plot',color='black')\n",
    "g11=desolve_rk4(deq,x,[0,6.5],step=0.01,end_points=[-7,7],output='plot',color='blue')\n",
    "g=g1+g2+g3+g4+g5+g6+g7+g8+g9+g10+g11\n",
    "g.show(ymin=-7,ymax=7)"
   ]
  },
  {
   "cell_type": "code",
   "execution_count": null,
   "metadata": {},
   "outputs": [],
   "source": []
  }
 ],
 "metadata": {
  "kernelspec": {
   "display_name": "SageMath 9.1",
   "language": "sage",
   "name": "sagemath"
  },
  "language_info": {
   "codemirror_mode": {
    "name": "ipython",
    "version": 3
   },
   "file_extension": ".py",
   "mimetype": "text/x-python",
   "name": "python",
   "nbconvert_exporter": "python",
   "pygments_lexer": "ipython3",
   "version": "3.7.3"
  }
 },
 "nbformat": 4,
 "nbformat_minor": 2
}
